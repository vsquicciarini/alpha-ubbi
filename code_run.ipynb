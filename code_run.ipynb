{
 "cells": [
  {
   "cell_type": "code",
   "execution_count": null,
   "metadata": {},
   "outputs": [],
   "source": [
    "from import_phot import *\n",
    "\n",
    "#Query Simbad: input=lista target, output= file con coordinate target (coo.txt)\n",
    "first_query_gaia(r'C:\\Users\\Vito\\Desktop\\PhD\\Progetti\\BEAST\\Stellar_ages\\CMS\\BT-Settl_stilism_cs0_GaiaDR3\\target_list.txt')\n",
    "\n",
    "#1st query VizieR: input=coo.txt, output= file con info target da Gaia DR3 (py_target_data.csv)\n",
    "import_phot(r'C:\\Users\\Vito\\Desktop\\PhD\\Progetti\\BEAST\\Stellar_ages\\CMS\\BT-Settl_stilism_cs0_GaiaDR3\\coo.txt',r'C:\\Users\\Vito\\Desktop\\PhD\\Progetti\\BEAST\\Stellar_ages\\CMS\\BT-Settl_stilism_cs0_GaiaDR3\\py_target_data.csv',mode='Gaia_EDR3')\n",
    "\n",
    "#Moduli da scrivere: input=py_target_data.csv, output=coordinate stelle comoving (CMS) (all_cms2.txt)\n",
    "#------------- scrivere programma\n",
    "\n",
    "#2nd query VizieR: input=all_cms2.txt, output=fotometria CMS Gaia e 2MASS\n",
    "import_phot(r'C:\\Users\\Vito\\Desktop\\PhD\\Progetti\\BEAST\\Stellar_ages\\CMS\\BT-Settl_stilism_cs0_GaiaDR3\\all_cms2.txt',mode='all')"
   ]
  }
 ],
 "metadata": {
  "kernelspec": {
   "display_name": "Python 3",
   "language": "python",
   "name": "python3"
  },
  "language_info": {
   "codemirror_mode": {
    "name": "ipython",
    "version": 3
   },
   "file_extension": ".py",
   "mimetype": "text/x-python",
   "name": "python",
   "nbconvert_exporter": "python",
   "pygments_lexer": "ipython3",
   "version": "3.8.1"
  }
 },
 "nbformat": 4,
 "nbformat_minor": 4
}
