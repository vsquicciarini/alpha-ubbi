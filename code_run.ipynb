{
 "cells": [
  {
   "cell_type": "code",
   "execution_count": 1,
   "metadata": {},
   "outputs": [
    {
     "name": "stdout",
     "output_type": "stream",
     "text": [
      "Could not import regions, which is required for some of the functionalities of this module.\n"
     ]
    }
   ],
   "source": [
    "from pelux_core import *\n",
    "import os"
   ]
  },
  {
   "cell_type": "markdown",
   "metadata": {},
   "source": [
    "# Catalogue queries\n",
    "\n",
    "The first step of the program consists in collecting data about a given list of stars.\n",
    "\n",
    "You can try searching for coordinates and photometry of some stars:"
   ]
  },
  {
   "cell_type": "code",
   "execution_count": 2,
   "metadata": {},
   "outputs": [
    {
     "name": "stderr",
     "output_type": "stream",
     "text": [
      "C:\\Users\\Vito\\AppData\\Local\\Programs\\Python\\Python38\\lib\\site-packages\\astroquery\\simbad\\core.py:135: UserWarning: Warning: The script line number 3 raised an error (recorded in the `errors` attribute of the result table): 'Fake Star': No known catalog could be found\n",
      "  warnings.warn(\"Warning: The script line number %i raised \"\n"
     ]
    },
    {
     "name": "stdout",
     "output_type": "stream",
     "text": [
      "Star Fake_Star  not found. Perhaps misspelling? Setting (ra,dec) to NaN.\n",
      "Some stars were not found. Would you like to end the program and check the spelling?\n",
      "If not, these stars will be treated as missing data\n",
      "End program? [Y/N]n\n"
     ]
    },
    {
     "name": "stderr",
     "output_type": "stream",
     "text": [
      "WARNING: OverflowError converting to IntType in column source_id, reverting to String. [astropy.io.ascii.core]\n",
      "WARNING: OverflowError converting to IntType in column sdssdr13, reverting to String. [astropy.io.ascii.core]\n",
      "C:\\Users\\Vito\\AppData\\Local\\Programs\\Python\\Python38\\lib\\site-packages\\tabulate.py:595: UserWarning: Warning: converting a masked element to nan.\n",
      "  conv(string)\n",
      "C:\\Users\\Vito\\AppData\\Local\\Programs\\Python\\Python38\\lib\\site-packages\\tabulate.py:996: UserWarning: Warning: converting a masked element to nan.\n",
      "  return format(float(val), floatfmt)\n"
     ]
    }
   ],
   "source": [
    "path=r'C:\\Users\\Vito\\Desktop\\PhD\\Programmi\\Python\\prove'\n",
    "my_file=os.path.join(path,'prova.txt')\n",
    "\n",
    "search_phot(my_file)"
   ]
  },
  {
   "cell_type": "markdown",
   "metadata": {},
   "source": [
    "The file can be either a list of equatorial coordinates (RA, dec), with header 'ra_v, dec_v' (.txt or .csv allowed), or a list of star names (no header, only .txt allowed). In the former case, the keyword coordinates must be set to 'True'.\n",
    "\n",
    "A meaningful name for the input file is suggested, as it will be the prefix for all the files creating during the execution. It should also be distinguishable from files already present in the working path to avoid overwriting.\n",
    "\n",
    "If one or more star names do not have a match in Simbad, the program prints their names, then asks you the permission to continue. Typing \"Yes\", it will fill the row(s) with NaN, resulting in a Null result for the related entry. If instead you wish to edit the file (e.g. due to a misspelling), type \"No\"."
   ]
  },
  {
   "cell_type": "markdown",
   "metadata": {},
   "source": [
    "In default mode, the employed catalogues are the following:\n",
    "- Gaia EDR3;\n",
    "- 2MASS.\n",
    "\n",
    "To specify a different set of catalogues, you can use the keyword surveys:"
   ]
  },
  {
   "cell_type": "code",
   "execution_count": 3,
   "metadata": {},
   "outputs": [
    {
     "name": "stderr",
     "output_type": "stream",
     "text": [
      "WARNING: OverflowError converting to IntType in column ID, reverting to String. [astropy.io.ascii.core]\n"
     ]
    }
   ],
   "source": [
    "coord_file=os.path.join(path,'prova_coordinates.csv')\n",
    "search_phot(coord_file,coordinates=True,surveys=['GAIA_EDR3','ALLWISE'])"
   ]
  },
  {
   "cell_type": "markdown",
   "metadata": {},
   "source": [
    "Available surveys (19/04): 'Gaia_EDR3', '2MASS', 'ALLWISE'. **Vanno aggiunti almeno Gaia DR2, WISE e Panstarrs**\n",
    "\n",
    "In the working path you can see a file ending with '\\_coordinates.csv'. It is directly related to the input file (being a mere copy of it if it was a coordinate file) and will constitute the reference file for internal IDs within the sample. Moreover, there's a file named after each survey ('\\_data'), and containing the collected data."
   ]
  },
  {
   "cell_type": "markdown",
   "metadata": {},
   "source": [
    "The module load_phot cross-matches these data in single photometric matrix [n,m] with one row per star and one column per filter*. A similar phot_err matrix, containing the photometric errors, is returned too, together with an m-elements list specifying the filters corresponding to every column.\n",
    "\n",
    "\\*The internal function cross_match takes (ra, dec) of the reference file and of the i-th surveys, and identifies a source as being the same if the |d(RA)|+|d(dec)|<3.6'' (**Dovrei renderlo un parametro modificabile a piacimento**). If it founds more than one source, it picks the brightest one."
   ]
  },
  {
   "cell_type": "code",
   "execution_count": 4,
   "metadata": {},
   "outputs": [
    {
     "name": "stdout",
     "output_type": "stream",
     "text": [
      "['G', 'GBP', 'GRP', 'J', 'H', 'K', 'W1', 'W2', 'W3', 'W4']\n"
     ]
    }
   ],
   "source": [
    "phot,phot_err,filters,kin=load_phot(coord_file,['GAIA_EDR3','2MASS','ALLWISE'])\n",
    "print(filters)"
   ]
  },
  {
   "cell_type": "markdown",
   "metadata": {},
   "source": [
    "All the photometry has been saved in the file 'all_photometry.txt'."
   ]
  },
  {
   "cell_type": "markdown",
   "metadata": {},
   "source": [
    "# Preparation of data\n",
    "\n",
    "The module load_phot creates also a file named '\\_kinematics.txt' and containing Gaia positions, parallaxes and proper motions.\n",
    "(**Dovrei recuperare queste informazioni da Gaia DR2 o Hipparcos, se non ci sono in Gaia EDR3**)\n",
    "\n",
    "With parallaxes, we can compute absolute magnitudes:\n"
   ]
  },
  {
   "cell_type": "code",
   "execution_count": 5,
   "metadata": {},
   "outputs": [
    {
     "name": "stdout",
     "output_type": "stream",
     "text": [
      "The star 1 with apparent magnitudes\n",
      " [4.9298 4.8706 5.028  5.204  5.292  5.314  5.359  5.197  5.446  5.388 ] \n",
      " in the filters ['G', 'GBP', 'GRP', 'J', 'H', 'K', 'W1', 'W2', 'W3', 'W4'] \n",
      "and parallax  7.7553 mas \n",
      "has absolute magnitudes\n",
      " [-0.62220699 -0.68140699 -0.52400699 -0.34800699 -0.26000699 -0.23800699\n",
      " -0.19300699 -0.35500699 -0.10600699 -0.16400699]\n"
     ]
    }
   ],
   "source": [
    "par=kin[:,4]\n",
    "par_err=kin[:,5]\n",
    "abs_phot,abs_err=app_to_abs_mag(phot,par,app_mag_error=phot_err,parallax_error=par_err)\n",
    "print('The star 1 with apparent magnitudes\\n',phot[0,:],'\\n in the filters',filters,'\\nand parallax ',par[0],'mas \\nhas absolute magnitudes\\n',abs_phot[0,:])"
   ]
  },
  {
   "cell_type": "markdown",
   "metadata": {},
   "source": [
    "**Va integrata la parte di estinzione e quella di contaminazione, ancora da scrivere**\n",
    "\n",
    "The extinction in the position given by ($\\alpha$, $\\delta$, $\\pi$) can be computed via the module interstellar_ext, based on the galactic 3D extinction map by Leike et al. (2020):\n",
    "\n",
    "**Va aggiunta la mappa di Lallement et al. 2019**\n"
   ]
  },
  {
   "cell_type": "code",
   "execution_count": 7,
   "metadata": {},
   "outputs": [
    {
     "name": "stdout",
     "output_type": "stream",
     "text": [
      "The star 1 with ra= 155.7420251189 , dec= -66.90144452703  and parallax  7.7553 mas \n",
      "has G-band extinction 0.08139007905034745 \n",
      " according to Leike et al. 2020\n"
     ]
    }
   ],
   "source": [
    "ext=interstellar_ext(ra=kin[:,0],dec=kin[:,2],par=par,ext_map='leike',color='G')\n",
    "print('The star 1 with ra=',kin[0,0],', dec=',kin[0,2],' and parallax ',par[0],'mas \\nhas G-band extinction',ext[0],'\\n according to Leike et al. 2020')"
   ]
  },
  {
   "cell_type": "code",
   "execution_count": null,
   "metadata": {},
   "outputs": [],
   "source": []
  }
 ],
 "metadata": {
  "kernelspec": {
   "display_name": "Python 3",
   "language": "python",
   "name": "python3"
  },
  "language_info": {
   "codemirror_mode": {
    "name": "ipython",
    "version": 3
   },
   "file_extension": ".py",
   "mimetype": "text/x-python",
   "name": "python",
   "nbconvert_exporter": "python",
   "pygments_lexer": "ipython3",
   "version": "3.8.1"
  }
 },
 "nbformat": 4,
 "nbformat_minor": 4
}
