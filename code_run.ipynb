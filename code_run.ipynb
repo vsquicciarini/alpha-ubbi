{
 "cells": [
  {
   "cell_type": "code",
   "execution_count": 1,
   "metadata": {},
   "outputs": [
    {
     "name": "stdout",
     "output_type": "stream",
     "text": [
      "Could not import regions, which is required for some of the functionalities of this module.\n"
     ]
    }
   ],
   "source": [
    "from pelux_core import *"
   ]
  },
  {
   "cell_type": "markdown",
   "metadata": {},
   "source": [
    "# Catalogue queries\n",
    "You can search for coordinates and photometry of a list of stars:"
   ]
  },
  {
   "cell_type": "code",
   "execution_count": 2,
   "metadata": {},
   "outputs": [
    {
     "name": "stderr",
     "output_type": "stream",
     "text": [
      "WARNING: OverflowError converting to IntType in column source_id, reverting to String. [astropy.io.ascii.core]\n",
      "WARNING: OverflowError converting to IntType in column sdssdr13, reverting to String. [astropy.io.ascii.core]\n",
      "C:\\Users\\Vito\\AppData\\Local\\Programs\\Python\\Python38\\lib\\site-packages\\tabulate.py:595: UserWarning: Warning: converting a masked element to nan.\n",
      "  conv(string)\n",
      "C:\\Users\\Vito\\AppData\\Local\\Programs\\Python\\Python38\\lib\\site-packages\\tabulate.py:996: UserWarning: Warning: converting a masked element to nan.\n",
      "  return format(float(val), floatfmt)\n"
     ]
    }
   ],
   "source": [
    "my_file=r'C:\\Users\\Vito\\Desktop\\PhD\\Programmi\\Python\\prove\\target_list_coordinates.csv'\n",
    "import_phot(my_file,coordinates=True)"
   ]
  },
  {
   "cell_type": "markdown",
   "metadata": {},
   "source": [
    "The file can be either a list of equatorial coordinates (RA, dec), with header 'ra_v, dec_v' (.txt or .csv allowed), or a list of star names (no header, only .txt allowed). In the former case, the keyword coordinates must be set to 'True'."
   ]
  },
  {
   "cell_type": "markdown",
   "metadata": {},
   "source": [
    "In default mode, the used catalogues are the following:\n",
    "- Gaia EDR3;\n",
    "- 2MASS.\n",
    "\n",
    "To specify a different set of catalogues, you can use the keyword surveys:"
   ]
  },
  {
   "cell_type": "code",
   "execution_count": 4,
   "metadata": {},
   "outputs": [],
   "source": [
    "import_phot(my_file,coordinates=True,surveys=['GAIA_EDR3','ALLWISE'])"
   ]
  },
  {
   "cell_type": "code",
   "execution_count": null,
   "metadata": {},
   "outputs": [],
   "source": []
  }
 ],
 "metadata": {
  "kernelspec": {
   "display_name": "Python 3",
   "language": "python",
   "name": "python3"
  },
  "language_info": {
   "codemirror_mode": {
    "name": "ipython",
    "version": 3
   },
   "file_extension": ".py",
   "mimetype": "text/x-python",
   "name": "python",
   "nbconvert_exporter": "python",
   "pygments_lexer": "ipython3",
   "version": "3.8.1"
  }
 },
 "nbformat": 4,
 "nbformat_minor": 4
}
