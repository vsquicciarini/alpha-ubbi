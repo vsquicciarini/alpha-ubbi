{
 "cells": [
  {
   "cell_type": "code",
   "execution_count": null,
   "metadata": {},
   "outputs": [],
   "source": [
    "import sys\n",
    "sys.path.append(r'C:\\Users\\Vito\\Desktop\\PhD\\Progetti\\MADYS')\n",
    "from pelux_core import *\n",
    "\n",
    "class MADYS:\n",
    "    def __init__(self, name, file, **kwargs):\n",
    "        self.name = name\n",
    "        self.file = file\n",
    "        self.surveys = ['GAIA_EDR3','2MASS']\n",
    "        self.coord = True\n",
    "        self.model = 'bt_settl'           \n",
    "        if len(kwargs)>0:\n",
    "            if 'surveys' in kwargs: self.surveys = kwargs['surveys']\n",
    "            if 'coord' in kwargs: self.coord = kwargs['coord']\n",
    "            if 'model' in kwargs: self.model = kwargs['model']\n",
    "        self.coo,data=search_phot(self.file,self.surveys,verbose=True,coordinates=self.coord)\n",
    "        self.phot,self.phot_err,self.filters,self.kin=load_phot(self.file,self.surveys)\n",
    "        par=self.kin[:,4]\n",
    "        par_err=self.kin[:,5]\n",
    "        self.iso=load_isochrones(self.model)\n",
    "        self.ebv=interstellar_ext(ra=self.coo[:,0],dec=self.coo[:,1],par=par)\n",
    "        self.ages,self.masses=isochronal_age(self.phot,self.phot_err,par,par_err,self.iso,self.surveys,ebv=self.ebv)\n",
    "    def CMD(self,filt):\n",
    "        plot_ages=np.array([1,3,5,10,20,30,100,200,500,1000])\n",
    "        g_abs,g_err=app_to_abs_mag(self.phot[:,0],self.kin[:,4],app_mag_error=self.phot_err[:,0],parallax_error=self.kin[:,5])\n",
    "        gbp_abs,gbp_err=app_to_abs_mag(self.phot[:,1],self.kin[:,4],app_mag_error=self.phot_err[:,1],parallax_error=self.kin[:,5])\n",
    "        grp_abs,grp_err=app_to_abs_mag(self.phot[:,2],self.kin[:,4],app_mag_error=self.phot_err[:,2],parallax_error=self.kin[:,5])\n",
    "        plot_CMD(gbp_abs-grp_abs,g_abs,self.iso[3],self.iso[2],self.iso[1],'Gbp-Grp','G',plot_ages=plot_ages,ebv=self.ebv,x_error=gbp_err+grp_err,y_error=g_err)\n",
    "        \n",
    "        \n",
    "p1 = MADYS(\"USCO\", r'C:\\Users\\Vito\\Desktop\\PhD\\Programmi\\Python\\prove\\usco_sample.txt',model='bt_settl')\n",
    "\n",
    "print(p1.name)\n",
    "print(p1.file)\n",
    "print(p1.model)\n",
    "print(p1.surveys)\n",
    "print(p1.coo)\n",
    "print(p1.ages)\n",
    "print(p1.masses)\n",
    "p1.CMD('Gbp-Grp')\n",
    "\n",
    "\n",
    "p2 = MADYS(\"USCO\", r'C:\\Users\\Vito\\Desktop\\PhD\\Programmi\\Python\\prove\\usco_sample.txt',model='mist')\n",
    "\n",
    "print(p2.model)\n",
    "print(p2.surveys)\n",
    "print(p2.ages)\n",
    "print(p2.masses)\n",
    "p2.CMD('Gbp-Grp')\n"
   ]
  }
 ],
 "metadata": {
  "kernelspec": {
   "display_name": "Python 3",
   "language": "python",
   "name": "python3"
  },
  "language_info": {
   "codemirror_mode": {
    "name": "ipython",
    "version": 3
   },
   "file_extension": ".py",
   "mimetype": "text/x-python",
   "name": "python",
   "nbconvert_exporter": "python",
   "pygments_lexer": "ipython3",
   "version": "3.8.1"
  }
 },
 "nbformat": 4,
 "nbformat_minor": 4
}
